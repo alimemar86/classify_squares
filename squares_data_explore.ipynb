{
 "cells": [
  {
   "cell_type": "markdown",
   "metadata": {},
   "source": [
    "# Squares"
   ]
  },
  {
   "cell_type": "code",
   "execution_count": 40,
   "metadata": {},
   "outputs": [],
   "source": [
    "import cv2\n",
    "import glob\n",
    "import numpy as np\n",
    "import fiftyone as fo\n",
    "import fiftyone.brain as fob"
   ]
  },
  {
   "cell_type": "code",
   "execution_count": 41,
   "metadata": {},
   "outputs": [],
   "source": [
    "def read_imgs(images, dataset, label, file_names):\n",
    "    for f in file_names:\n",
    "        img = cv2.imread(f, cv2.IMREAD_UNCHANGED)\n",
    "        img = cv2.resize(img, (256, 256)).ravel()\n",
    "        images.append(img)\n",
    "        sample = fo.Sample(f)\n",
    "        sample['class'] = fo.Classification(label=label)\n",
    "        dataset.add_sample(sample)\n",
    "    \n",
    "\n",
    "    return images, dataset"
   ]
  },
  {
   "cell_type": "code",
   "execution_count": 42,
   "metadata": {},
   "outputs": [
    {
     "name": "stdout",
     "output_type": "stream",
     "text": [
      "(1500, 196608) 1500\n"
     ]
    }
   ],
   "source": [
    "dataset = fo.Dataset()\n",
    "images=[]\n",
    "\n",
    "images, dataset = read_imgs(images, dataset, label='a', file_names=glob.glob(r'squares/train/a/*.[pjbt][npmi][ggpf]*'))\n",
    "images, dataset = read_imgs(images, dataset, label='b', file_names=glob.glob(r'squares/train/b/*.[pjbt][npmi][ggpf]*'))\n",
    "images, dataset = read_imgs(images, dataset, label='c', file_names=glob.glob(r'squares/train/c/*.[pjbt][npmi][ggpf]*'))\n",
    "\n",
    "\n",
    "images = np.array(images)\n",
    "print(images.shape , len(dataset))\n",
    "\n",
    "\n"
   ]
  },
  {
   "cell_type": "code",
   "execution_count": 43,
   "metadata": {},
   "outputs": [
    {
     "name": "stdout",
     "output_type": "stream",
     "text": [
      "Generating visualization...\n"
     ]
    },
    {
     "name": "stdout",
     "output_type": "stream",
     "text": [
      "[t-SNE] Computing 91 nearest neighbors...\n",
      "[t-SNE] Indexed 1500 samples in 0.004s...\n",
      "[t-SNE] Computed neighbors for 1500 samples in 0.118s...\n",
      "[t-SNE] Computed conditional probabilities for sample 1000 / 1500\n",
      "[t-SNE] Computed conditional probabilities for sample 1500 / 1500\n",
      "[t-SNE] Mean sigma: 1228.855984\n",
      "[t-SNE] Computed conditional probabilities in 0.079s\n"
     ]
    },
    {
     "name": "stderr",
     "output_type": "stream",
     "text": [
      "/opt/anaconda3/lib/python3.9/site-packages/sklearn/manifold/_t_sne.py:982: FutureWarning:\n",
      "\n",
      "The PCA initialization in TSNE will change to have the standard deviation of PC1 equal to 1e-4 in 1.2. This will ensure better convergence.\n",
      "\n"
     ]
    },
    {
     "name": "stdout",
     "output_type": "stream",
     "text": [
      "[t-SNE] Iteration 50: error = 79.2394638, gradient norm = 0.0024169 (50 iterations in 0.602s)\n",
      "[t-SNE] Iteration 100: error = 91.7411652, gradient norm = 0.0084104 (50 iterations in 0.575s)\n",
      "[t-SNE] Iteration 150: error = 129.2020874, gradient norm = 0.0254747 (50 iterations in 0.430s)\n",
      "[t-SNE] Iteration 200: error = 132.2322693, gradient norm = 0.0140388 (50 iterations in 0.501s)\n",
      "[t-SNE] Iteration 250: error = 132.5805054, gradient norm = 0.0124879 (50 iterations in 0.452s)\n",
      "[t-SNE] KL divergence after 250 iterations with early exaggeration: 132.580505\n",
      "[t-SNE] Iteration 300: error = 3.4520826, gradient norm = 0.0011898 (50 iterations in 0.445s)\n",
      "[t-SNE] Iteration 350: error = 3.0510206, gradient norm = 0.0005405 (50 iterations in 0.431s)\n",
      "[t-SNE] Iteration 400: error = 2.8475628, gradient norm = 0.0003528 (50 iterations in 0.467s)\n",
      "[t-SNE] Iteration 450: error = 2.7041569, gradient norm = 0.0002647 (50 iterations in 0.438s)\n",
      "[t-SNE] Iteration 500: error = 2.5907059, gradient norm = 0.0002150 (50 iterations in 0.435s)\n",
      "[t-SNE] Iteration 550: error = 2.4963644, gradient norm = 0.0001784 (50 iterations in 0.426s)\n",
      "[t-SNE] Iteration 600: error = 2.4159379, gradient norm = 0.0001537 (50 iterations in 0.485s)\n",
      "[t-SNE] Iteration 650: error = 2.3453834, gradient norm = 0.0001367 (50 iterations in 0.439s)\n",
      "[t-SNE] Iteration 700: error = 2.2815468, gradient norm = 0.0001231 (50 iterations in 0.434s)\n",
      "[t-SNE] Iteration 750: error = 2.2235959, gradient norm = 0.0001123 (50 iterations in 0.444s)\n",
      "[t-SNE] Iteration 800: error = 2.1709971, gradient norm = 0.0001021 (50 iterations in 0.443s)\n",
      "[t-SNE] Iteration 850: error = 2.1231470, gradient norm = 0.0000940 (50 iterations in 0.449s)\n",
      "[t-SNE] Iteration 900: error = 2.0793130, gradient norm = 0.0000870 (50 iterations in 0.440s)\n",
      "[t-SNE] Iteration 950: error = 2.0380864, gradient norm = 0.0000815 (50 iterations in 0.589s)\n",
      "[t-SNE] Iteration 1000: error = 1.9991109, gradient norm = 0.0000766 (50 iterations in 0.445s)\n",
      "[t-SNE] KL divergence after 1000 iterations: 1.999111\n"
     ]
    }
   ],
   "source": [
    "# Compute 2D embeddings\n",
    "results = fob.compute_visualization(dataset, embeddings=images, seed=51, method='tsne')\n",
    "\n"
   ]
  },
  {
   "cell_type": "code",
   "execution_count": 52,
   "metadata": {},
   "outputs": [
    {
     "data": {},
     "metadata": {},
     "output_type": "display_data"
    },
    {
     "data": {
      "text/plain": []
     },
     "metadata": {},
     "output_type": "display_data"
    },
    {
     "data": {
      "application/vnd.jupyter.widget-view+json": {
       "model_id": "6c34a8dc7fc24b4ca1dfb6d66f8abe49",
       "version_major": 2,
       "version_minor": 0
      },
      "text/plain": [
       "FigureWidget({\n",
       "    'data': [{'customdata': array(['6551b0bd25953563c7b24fcc', '6551b0bd25953563c7b24fce',\n",
       "    …"
      ]
     },
     "metadata": {},
     "output_type": "display_data"
    },
    {
     "data": {
      "text/html": [
       "\n",
       "        <iframe\n",
       "            width=\"100%\"\n",
       "            height=\"800\"\n",
       "            src=\"http://localhost:5151/?notebook=True&subscription=016c0444-ac29-421f-a6cc-470f16ddb0d0\"\n",
       "            frameborder=\"0\"\n",
       "            allowfullscreen\n",
       "            \n",
       "        ></iframe>\n",
       "        "
      ],
      "text/plain": [
       "<IPython.lib.display.IFrame at 0x7fb271792b80>"
      ]
     },
     "metadata": {},
     "output_type": "display_data"
    }
   ],
   "source": [
    "plot = results.visualize(labels='class.label')\n",
    "plot.show(height=400)\n",
    "\n",
    "session = fo.launch_app(dataset)\n",
    "session.plots.attach(plot)"
   ]
  },
  {
   "cell_type": "code",
   "execution_count": 50,
   "metadata": {},
   "outputs": [
    {
     "data": {},
     "metadata": {},
     "output_type": "display_data"
    },
    {
     "data": {
      "text/plain": []
     },
     "metadata": {},
     "output_type": "display_data"
    },
    {
     "data": {
      "application/vnd.jupyter.widget-view+json": {
       "model_id": "bff26cd8944d46cdaa66fb4d6559ad91",
       "version_major": 2,
       "version_minor": 0
      },
      "text/plain": [
       "FigureWidget({\n",
       "    'data': [{'customdata': array(['6551b0bd25953563c7b24fcc', '6551b0bd25953563c7b24fce',\n",
       "    …"
      ]
     },
     "metadata": {},
     "output_type": "display_data"
    }
   ],
   "source": [
    "plot = results.visualize(labels='class.label')\n",
    "plot.show(height=400)"
   ]
  },
  {
   "cell_type": "code",
   "execution_count": null,
   "metadata": {},
   "outputs": [],
   "source": []
  }
 ],
 "metadata": {
  "kernelspec": {
   "display_name": "base",
   "language": "python",
   "name": "python3"
  },
  "language_info": {
   "codemirror_mode": {
    "name": "ipython",
    "version": 3
   },
   "file_extension": ".py",
   "mimetype": "text/x-python",
   "name": "python",
   "nbconvert_exporter": "python",
   "pygments_lexer": "ipython3",
   "version": "3.9.12"
  }
 },
 "nbformat": 4,
 "nbformat_minor": 2
}
